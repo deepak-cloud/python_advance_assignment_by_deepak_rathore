{
 "cells": [
  {
   "cell_type": "markdown",
   "metadata": {},
   "source": [
    "# Q1. What is the relationship between classes and modules ?\n",
    "\n",
    "## Solution:\n",
    "In Python, a module is basically a mechanism to arrange code, and it can include either Python classes or only functions. You just import such classes or functions into your project if you require them. For example, the math module in Python just has a few functions, which you can call as needed."
   ]
  },
  {
   "cell_type": "markdown",
   "metadata": {},
   "source": [
    "# Q2. How do you make instances and classes ?\n",
    "\n",
    "## Solution:\n",
    "\n",
    "Class: A user-defined prototype for an object that specifies a set of attributes that all objects of the class must have. Data members (class variables and instance variables) and methods are the attributes, which are accessed using dot notation.\n",
    "\n",
    "Instances: A single item of a specific class. An instance of the class Circle is, for example, we can understand through code.\n"
   ]
  },
  {
   "cell_type": "code",
   "execution_count": 2,
   "metadata": {},
   "outputs": [],
   "source": [
    "# creating classes\n",
    "\n",
    "class Employee:\n",
    "   'Common base class for all employees'\n",
    "   empCount = 0\n",
    "\n",
    "   def __init__(self, name, salary):\n",
    "      self.name = name\n",
    "      self.salary = salary\n",
    "      Employee.empCount += 1\n",
    "   \n",
    "   def displayCount(self):\n",
    "     print(\"Total Employee %d\" % Employee.empCount)\n",
    "    \n",
    "   def displayEmployee(self):\n",
    "      print(\"Name: \", self.name,  \", Salary: \", self.salary)\n",
    "        "
   ]
  },
  {
   "cell_type": "code",
   "execution_count": 3,
   "metadata": {},
   "outputs": [],
   "source": [
    "# creating instances\n",
    "\n",
    "# This would create first object of Employee class\n",
    "\n",
    "emp1 = Employee(\"Deepak\", 10000)\n",
    "\"This would create second object of Employee class\"\n",
    "emp2 = Employee(\"Suresh\", 20000)\n"
   ]
  },
  {
   "cell_type": "code",
   "execution_count": 5,
   "metadata": {},
   "outputs": [
    {
     "name": "stdout",
     "output_type": "stream",
     "text": [
      "Name:  Deepak , Salary:  10000\n",
      "Name:  Suresh , Salary:  20000\n",
      "Total Employee 2\n"
     ]
    }
   ],
   "source": [
    "emp1.displayEmployee()\n",
    "emp2.displayEmployee()\n",
    "print(\"Total Employee %d\" % Employee.empCount)"
   ]
  },
  {
   "cell_type": "markdown",
   "metadata": {},
   "source": [
    "# Q3. Where and how should be class attributes created ?\n",
    "\n",
    "## Solution:\n",
    "A Python variable that belongs to a class rather than a specific object is known as a class attribute. It is shared by all of this class's objects and is defined outside of the class's constructor function, init (self,...).\n",
    "\n",
    "class_attr  is a class attribute defined outside the constructor.\n",
    "\n",
    "For eg. understand below code"
   ]
  },
  {
   "cell_type": "code",
   "execution_count": 7,
   "metadata": {},
   "outputs": [],
   "source": [
    "class ExampleClass(object):\n",
    "    class_attr = 0\n",
    "    "
   ]
  },
  {
   "cell_type": "markdown",
   "metadata": {},
   "source": [
    "# Q4. Where and how are instance attributes created ?\n",
    "\n",
    "## Solution:\n",
    "A Python variable that belongs to only one object is known as an instance attribute. This variable is only accessible within the scope of this object and is defined within the class's constructor, init (self,...).\n",
    "\n",
    "For eg. understand below code"
   ]
  },
  {
   "cell_type": "code",
   "execution_count": 8,
   "metadata": {},
   "outputs": [],
   "source": [
    "def __init__(self, instance_attr):\n",
    "        self.instance_attr = instance_attr\n"
   ]
  },
  {
   "cell_type": "markdown",
   "metadata": {},
   "source": [
    "# Q5. What does the term \"self\" in a Python class mean ?\n",
    "\n",
    "## Solution:\n",
    "The class instance is represented by Self. In Python, we can access the class's attributes and methods by using the \"self\" keyword. It connects the attributes to the arguments. Because Python does not employ the @ syntax to refer to instance attributes, you'll need to use self.\n",
    "\n",
    "We can understand the following code"
   ]
  },
  {
   "cell_type": "code",
   "execution_count": 10,
   "metadata": {},
   "outputs": [
    {
     "name": "stdout",
     "output_type": "stream",
     "text": [
      "This is Constructor\n",
      "Worked fine\n"
     ]
    }
   ],
   "source": [
    "# Self is always required as the first arguement\n",
    "class check:\n",
    "    def __init__(self):\n",
    "        print(\"This is Constructor\")\n",
    " \n",
    "object = check()\n",
    "print(\"Worked fine\")"
   ]
  },
  {
   "cell_type": "markdown",
   "metadata": {},
   "source": [
    "# Q6. How does a Python class handle operator overloading ?\n",
    "\n",
    "## Solution:\n",
    "\n",
    "Built-in classes can be used with Python operators. However, the same operator behaves differently depending on the type. The + operator, for example, can be used to add two numbers, merge two lists, or concatenate two strings.\n",
    "Operator overloading is a Python feature that allows the same operator to have several meanings depending on the context.\n",
    "\n",
    "For example we can understand through following code"
   ]
  },
  {
   "cell_type": "code",
   "execution_count": 13,
   "metadata": {},
   "outputs": [
    {
     "name": "stdout",
     "output_type": "stream",
     "text": [
      "(3,5)\n"
     ]
    }
   ],
   "source": [
    "class Point:\n",
    "    def __init__(self, x=0, y=0):\n",
    "        self.x = x\n",
    "        self.y = y\n",
    "\n",
    "    def __str__(self):\n",
    "        return \"({0},{1})\".format(self.x, self.y)\n",
    "\n",
    "    def __add__(self, other):\n",
    "        x = self.x + other.x\n",
    "        y = self.y + other.y\n",
    "        return Point(x, y)\n",
    "\n",
    "\n",
    "p1 = Point(1, 2)\n",
    "p2 = Point(2, 3)\n",
    "\n",
    "print(p1+p2)"
   ]
  },
  {
   "cell_type": "markdown",
   "metadata": {},
   "source": [
    "# Q7. When do you consider allowing operator overloading of your classes ?\n",
    "\n",
    "## Solution:\n",
    "Overloading an operator refers to giving them more meaning than their established operational meaning. The operator +, for example, can be used to add two integers, join two strings, and merge two lists. Because the ‘+' operator is overloaded by the int and str classes, it is possible."
   ]
  },
  {
   "cell_type": "markdown",
   "metadata": {},
   "source": [
    "# Q8. What is the most popular form of operator overloading ?\n",
    "\n",
    "## Solution:\n",
    "The Addition (+) operator is a popular and practical example.\n",
    "\n",
    "Consider how the ‘+' operator works with two numbers and how the same operator works with two strings.\n",
    "\n",
    "On numbers, it does \"Addition,\" while on strings, it performs \"Concatenation.\""
   ]
  },
  {
   "cell_type": "markdown",
   "metadata": {},
   "source": [
    "# Q9. What are the two most important concepts to grasp in order to comprehend Python OOP code ?\n",
    "\n",
    "## Solution:\n",
    "It is critical to have a thorough understanding of OOP in order to construct reliable and well-designed software solutions with Python. In this tutorial, we'll go over two important concepts in OOP: inheritance and polymorphism.\n",
    "Inheritance and polymorphism are essential factors in creating software that is stable, adaptable, and easy to maintain. The best way to convey these principles is to use examples."
   ]
  },
  {
   "cell_type": "code",
   "execution_count": null,
   "metadata": {},
   "outputs": [],
   "source": []
  },
  {
   "cell_type": "markdown",
   "metadata": {},
   "source": [
    "# Assignment Completed !!"
   ]
  }
 ],
 "metadata": {
  "kernelspec": {
   "display_name": "Python 3",
   "language": "python",
   "name": "python3"
  },
  "language_info": {
   "codemirror_mode": {
    "name": "ipython",
    "version": 3
   },
   "file_extension": ".py",
   "mimetype": "text/x-python",
   "name": "python",
   "nbconvert_exporter": "python",
   "pygments_lexer": "ipython3",
   "version": "3.7.4"
  }
 },
 "nbformat": 4,
 "nbformat_minor": 2
}
