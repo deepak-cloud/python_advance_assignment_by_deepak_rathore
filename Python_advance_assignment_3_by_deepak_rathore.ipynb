{
 "cells": [
  {
   "cell_type": "markdown",
   "metadata": {},
   "source": [
    "# Q1. What is the concept of an abstract superclass ?\n",
    "\n",
    "## Solution:\n",
    "If a class contains one or more abstract methods, it is termed an Abstract class. The term \"abstract method\" refers to a method that has been declared but does not have any implementation. It is not possible to instantiate abstract classes, and their abstract methods must be implemented by their subclasses."
   ]
  },
  {
   "cell_type": "markdown",
   "metadata": {},
   "source": [
    "# Q2. What happens when a class statement's top level contains a basic assignment statement ?\n",
    "\n",
    "## Solution:\n",
    "When a top-level class definitions and statements contains a basic assignment statement.\n",
    "\n",
    "defs :: (def br)*\n",
    "def :: statement | [ \"private\" ] (var-def | function-def | class-def)\n",
    "Top-level definitions include variable (and constant), function and class definitions. They may be marked private by prefixing them with the private keyword. Private definitions are only visible in the module that defines them. Definitions that are not private are public. The top-level may also include statements.\n",
    "\n",
    "As an exception, a function named Main is always private even if the definition is not prefixed with private."
   ]
  },
  {
   "cell_type": "markdown",
   "metadata": {},
   "source": [
    "# Q3. Why does a class need to manually call a superclass's __init__ method ?\n",
    "\n",
    "## Solution:\n",
    "The main reason for manually calling base class _init__ is that base class may typically create member variable and initialize them to defaults. So if you don't call base class init, none of that code would be executed and you would end up with base class that has no member variables.\n",
    "\n",
    "We can understand this through below code:"
   ]
  },
  {
   "cell_type": "code",
   "execution_count": 2,
   "metadata": {},
   "outputs": [
    {
     "name": "stdout",
     "output_type": "stream",
     "text": [
      "Creating Derived1...\n",
      "derived1 init\n",
      "Creating Derived2...\n",
      "base init\n",
      "derived2 init\n"
     ]
    }
   ],
   "source": [
    "class Base:\n",
    "  def __init__(self):\n",
    "    print('base init')\n",
    "\n",
    "class Derived1(Base):\n",
    "  def __init__(self):\n",
    "    print('derived1 init')\n",
    "\n",
    "class Derived2(Base):\n",
    "  def __init__(self):\n",
    "    super(Derived2, self).__init__()\n",
    "    print('derived2 init')\n",
    "\n",
    "print('Creating Derived1...')\n",
    "d1 = Derived1()\n",
    "print('Creating Derived2...')\n",
    "d2 = Derived2()"
   ]
  },
  {
   "cell_type": "markdown",
   "metadata": {},
   "source": [
    "# Q4. How can you augment, instead of completely replacing, an inherited method ?\n",
    "\n",
    "## Solution:\n",
    "\n",
    "What we really want to do here is somehow augment the original giveRaise, instead of replacing it altogether. The good way to do that in Python is by calling to the original version directly, with augmented arguments, like this:\n",
    "\n",
    "class Manager(Person):\n",
    "\n",
    "def giveRaise(self, percent, bonus=.10):\n",
    "\n",
    "Person.giveRaise(self, percent + bonus) # Good: augment original\n",
    "\n",
    "This code leverages the fact that a class method can always be called either through an instance (the usual way, where Python sends the instance to the self argument automatically) or through the class (the less common scheme, where you must pass the instance manually). In more symbolic terms, recall that a normal method call of this form:\n",
    "\n",
    "instance.method(args...) is automatically translated by Python into this equivalent form:\n",
    "\n",
    "class.method(instance, args...)\n",
    "\n",
    "where the class containing the method to be run is determined by the inheritance search rule applied to the method's name. You can code either form in your script, but there is a slight asymmetry between the two—you must remember to pass along the instance manually if you call through the class directly. The method always needs a subject instance one way or another, and Python provides it automatically only for calls made through an instance. For calls through the class name, you need to send an instance to self yourself; for code inside a method like giveRaise, self already is the subject of the call, and hence the instance to pass along.\n",
    "\n",
    "Calling through the class directly effectively subverts inheritance and kicks the call higher up the class tree to run a specific version. In our case, we can use this technique to invoke the default giveRaise in Person, even though it's been redefined at the Manager level. In some sense, we must call through Person this way, because a self.giveRaise() inside Manager's giveRaise code would loop—since self already is a Manager, self.giveRaise() would resolve again to Manager.giveRaise, and so on and so forth until available memory is exhausted.\n",
    "\n"
   ]
  },
  {
   "cell_type": "markdown",
   "metadata": {},
   "source": [
    "# Q5. How is the local scope of a class different from that of a function ?\n",
    "\n",
    "## Solution:\n",
    "Declaring a variable in a class (outside of a function): it can be accessed by all class functions (essentially a public variable): comment:This functions similarly to a static variable and may be accessed by using the class name. All functions have access to these variables, which they can edit and print.\n",
    "\n",
    "defining a variable within a class's function: It can only be accessed by that function (it's in that function's scope): comment: if a variable is declared without the keyword self, it is exclusively available within that function, similar to a local variable. If it is declared using self, such as self.var='somevalue,' it can be accessed by any object but not by the class name."
   ]
  },
  {
   "cell_type": "code",
   "execution_count": null,
   "metadata": {},
   "outputs": [],
   "source": []
  },
  {
   "cell_type": "markdown",
   "metadata": {},
   "source": [
    "## !! Assignment Completed"
   ]
  }
 ],
 "metadata": {
  "kernelspec": {
   "display_name": "Python 3",
   "language": "python",
   "name": "python3"
  },
  "language_info": {
   "codemirror_mode": {
    "name": "ipython",
    "version": 3
   },
   "file_extension": ".py",
   "mimetype": "text/x-python",
   "name": "python",
   "nbconvert_exporter": "python",
   "pygments_lexer": "ipython3",
   "version": "3.7.4"
  }
 },
 "nbformat": 4,
 "nbformat_minor": 2
}
