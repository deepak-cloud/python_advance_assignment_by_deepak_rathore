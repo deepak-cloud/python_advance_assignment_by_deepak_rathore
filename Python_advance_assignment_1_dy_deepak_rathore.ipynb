{
 "cells": [
  {
   "cell_type": "markdown",
   "metadata": {},
   "source": [
    "# Q1. What is the purpose of Python's OOP ?\n",
    "\n",
    "## Solution:\n",
    "OOPs is a programming technique in Python that emphasises the use of objects and classes in the same way that other generic programming languages do. Any real-world entities can be used as objects. Python lets programmers to create programmes utilising the OOPs method, with a strong emphasis on code reuse. In Python, creating classes and objects is a simple."
   ]
  },
  {
   "cell_type": "markdown",
   "metadata": {},
   "source": [
    "# Q2. Where does an inheritance search look for an attribute ?\n",
    "\n",
    "## Solution:\n",
    "\n",
    "\n",
    "When an object is qualified in Python, inheritance occurs, and it requires exploring an attribute definition tree (one or more namespaces). Python scans the namespace tree at and above object for the first attr it can find whenever you use an expression of the form object.attr, where object is an instance or class object. Inheritance is the foundation of specialisation since lower definitions in the tree overrule higher ones."
   ]
  },
  {
   "cell_type": "markdown",
   "metadata": {},
   "source": [
    "# Q3. How do you distinguish between a class object and an instance object ?\n",
    "\n",
    "## Solution:\n",
    "Class variables are for properties and methods that are shared by all instances of the class, whereas instance variables are for data that is unique to each instance. Class variables are variables whose value is assigned in the class, but instance variables are variables whose value is assigned inside a constructor or method using self.\n"
   ]
  },
  {
   "cell_type": "markdown",
   "metadata": {},
   "source": [
    "# Q4. What makes the first argument in a class’s method function special ?\n",
    "\n",
    "## Solution:\n",
    "The procedure of calling is automated, but the procedure of receiving is not (its explicit).\n",
    "This is why the object itself must be the first parameter of a class function. It's just a habit to write this parameter as self. It is not a keyword in Python and has no particular significance."
   ]
  },
  {
   "cell_type": "markdown",
   "metadata": {},
   "source": [
    "# Q5. What is the purpose of the __init__ method ?\n",
    "\n",
    "## Solution: \n",
    "In Python classes, \"__init__\" is a reseved method. In object-oriented terminology, it's referred to as a constructor. When an object is generated from a class, this method is called to allow the class to initialise its attributes."
   ]
  },
  {
   "cell_type": "markdown",
   "metadata": {},
   "source": [
    "# Q6. What is the process for creating a class instance ?\n",
    "\n",
    "## Solution:\n",
    "When you create an object, you are \"instantiating\" a class by creating an instance of it.\n",
    "A single, postfix parameter is required for the new operator: constuctor call. The constructor's name identifies the class to be instantiated. The constuctor is responsible for setting up the new object.\n",
    "\n",
    "The new operator creates an object and returns a reference to it. This reference is frequently set to a variable of the correct type. The object is unreachable after the statement in which the new operator appears ends executing if the reference is not set to a variable."
   ]
  },
  {
   "cell_type": "markdown",
   "metadata": {},
   "source": [
    "# Q7. What is the process for creating a class ?\n",
    "\n",
    "## Solution:\n",
    "When you create an object, you are \"instantiating\" a class by creating an instance of it.\n",
    "A single, postfix parameter is required for the new operator: a function Object() { [native code] } call. The constructor's name identifies the class to be instantiated. The function Object() { [native code] } is responsible for setting up the new object.\n",
    "\n",
    "The new operator creates an object and returns a reference to it. This reference is frequently set to a variable of the correct type. The object is unreachable after the statement in which the new operator appears ends executing if the reference is not set to a variable."
   ]
  },
  {
   "cell_type": "markdown",
   "metadata": {},
   "source": [
    "# Q8. How would you define the superclasses of a class ?\n",
    "\n",
    "## Solution:\n",
    "The parent or superclass of a class is the class from which it inherits. A subclass, also known as an heir class or a kid class, is a class that inherits from a superclass. Superclasses are also referred to as ancestors."
   ]
  },
  {
   "cell_type": "code",
   "execution_count": null,
   "metadata": {},
   "outputs": [],
   "source": []
  },
  {
   "cell_type": "markdown",
   "metadata": {},
   "source": [
    "## Assignment Completed !!"
   ]
  }
 ],
 "metadata": {
  "kernelspec": {
   "display_name": "Python 3",
   "language": "python",
   "name": "python3"
  },
  "language_info": {
   "codemirror_mode": {
    "name": "ipython",
    "version": 3
   },
   "file_extension": ".py",
   "mimetype": "text/x-python",
   "name": "python",
   "nbconvert_exporter": "python",
   "pygments_lexer": "ipython3",
   "version": "3.7.4"
  }
 },
 "nbformat": 4,
 "nbformat_minor": 2
}
